{
 "cells": [
  {
   "cell_type": "code",
   "execution_count": 16,
   "metadata": {},
   "outputs": [
    {
     "name": "stdout",
     "output_type": "stream",
     "text": [
      "315\n"
     ]
    }
   ],
   "source": [
    "# The textfile, travel_plans.txt, contains the summer travel plans for someone with some commentary. Find the total number of characters in the file and save to the variable num.\n",
    "\n",
    "#num = len(open(\"travel_plans2.txt\", \"r\").read())\n",
    "\n",
    "file = open(\"travel_plans2.txt\", \"r\")\n",
    "contents = file.read()\n",
    "num = len(contents)\n",
    "file.close()\n",
    "print(num)\n",
    "\n"
   ]
  },
  {
   "cell_type": "code",
   "execution_count": 17,
   "metadata": {},
   "outputs": [
    {
     "name": "stdout",
     "output_type": "stream",
     "text": [
      "48\n"
     ]
    }
   ],
   "source": [
    "# We have provided a file called emotion_words.txt that contains lines of words that describe emotions. Find the total number of words in the file and assign this value to the variable num_words.\n",
    "\n",
    "#num_words = len(open(\"emotion_words2.txt\", \"r\").read().split())\n",
    "\n",
    "file = open(\"emotion_words2.txt\", \"r\")\n",
    "contents = file.read()\n",
    "words = contents.split()\n",
    "num_words = len(words)\n",
    "file.close()\n",
    "print(num_words)"
   ]
  },
  {
   "cell_type": "code",
   "execution_count": 18,
   "metadata": {},
   "outputs": [
    {
     "name": "stdout",
     "output_type": "stream",
     "text": [
      "10\n"
     ]
    }
   ],
   "source": [
    "# Assign to the variable num_lines the number of lines in the file school_prompt.txt.\n",
    "\n",
    "#num_lines = len(open(\"school_prompt2.txt\", \"r\").readlines())\n",
    "\n",
    "file = open(\"school_prompt2.txt\", \"r\")\n",
    "contents = file.readlines()\n",
    "num_lines = len(contents)\n",
    "file.close()\n",
    "print(num_lines)"
   ]
  },
  {
   "cell_type": "code",
   "execution_count": 19,
   "metadata": {},
   "outputs": [
    {
     "name": "stdout",
     "output_type": "stream",
     "text": [
      "Writing essays for school can \n"
     ]
    }
   ],
   "source": [
    "# Assign the first 30 characters of school_prompt.txt as a string to the variable beginning_chars.\n",
    "\n",
    "#beginning_chars = open(\"school_prompt2.txt\", \"r\").read(30)\n",
    "\n",
    "file = open(\"school_prompt2.txt\", \"r\")\n",
    "beginning_chars = file.read(30)\n",
    "file.close()\n",
    "print(beginning_chars)\n",
    "\n"
   ]
  },
  {
   "cell_type": "code",
   "execution_count": 20,
   "metadata": {},
   "outputs": [
    {
     "name": "stdout",
     "output_type": "stream",
     "text": [
      "['for', 'find', 'to', 'many', 'they', 'solid', 'for', 'have', 'some', 'ups,']\n"
     ]
    }
   ],
   "source": [
    "# Challenge: Using the file school_prompt.txt, assign the third word of every line to a list called three.\n",
    "\n",
    "file = open(\"school_prompt2.txt\", \"r\")\n",
    "contents = file.readlines()\n",
    "\n",
    "three = []\n",
    "\n",
    "for line in contents:\n",
    "    words = line.split()\n",
    "    three.append(words[2])\n",
    "\n",
    "file.close()\n",
    "\n",
    "print(three)"
   ]
  },
  {
   "cell_type": "code",
   "execution_count": 21,
   "metadata": {},
   "outputs": [
    {
     "name": "stdout",
     "output_type": "stream",
     "text": [
      "['Sad', 'Angry', 'Happy', 'Confused', 'Excited', 'Scared', 'Nervous']\n"
     ]
    }
   ],
   "source": [
    "# Challenge: Create a list called emotions that contains the first word of every line in emotion_words.txt.\n",
    "\n",
    "file = open(\"emotion_words2.txt\", \"r\")\n",
    "contents = file.readlines()\n",
    "\n",
    "emotions = []\n",
    "\n",
    "for line in contents:\n",
    "    words = line.split()\n",
    "    emotions.append(words[0])\n",
    "\n",
    "file.close()\n",
    "\n",
    "print(emotions)"
   ]
  },
  {
   "cell_type": "code",
   "execution_count": 22,
   "metadata": {},
   "outputs": [
    {
     "name": "stdout",
     "output_type": "stream",
     "text": [
      "This summer I will be travelling.\n"
     ]
    }
   ],
   "source": [
    "# Assign the first 33 characters from the textfile, travel_plans.txt to the variable first_chars.\n",
    "\n",
    "#first_chars = open(\"travel_plans2.txt\", \"r\").read(33)\n",
    "\n",
    "file = open(\"travel_plans2.txt\", \"r\")\n",
    "first_chars = file.read(33)\n",
    "file.close()\n",
    "\n",
    "print(first_chars)"
   ]
  },
  {
   "cell_type": "code",
   "execution_count": 23,
   "metadata": {},
   "outputs": [
    {
     "name": "stdout",
     "output_type": "stream",
     "text": [
      "['topic', 'point', 'papers,', 'ups,', 'scripts.']\n"
     ]
    }
   ],
   "source": [
    "# Challenge: Using the file school_prompt.txt, if the character ‘p’ is in a word, then add the word to a list called p_words.\n",
    "\n",
    "file = open(\"school_prompt2.txt\", \"r\")\n",
    "contents = file.readlines()\n",
    "\n",
    "p_words = []\n",
    "\n",
    "for line in contents:\n",
    "    words = line.split()\n",
    "    for word in words:\n",
    "        if 'p' in word:\n",
    "            p_words.append(word)\n",
    "\n",
    "file.close()\n",
    "\n",
    "print(p_words)"
   ]
  }
 ],
 "metadata": {
  "kernelspec": {
   "display_name": "Python 3",
   "language": "python",
   "name": "python3"
  },
  "language_info": {
   "codemirror_mode": {
    "name": "ipython",
    "version": 3
   },
   "file_extension": ".py",
   "mimetype": "text/x-python",
   "name": "python",
   "nbconvert_exporter": "python",
   "pygments_lexer": "ipython3",
   "version": "3.12.4"
  }
 },
 "nbformat": 4,
 "nbformat_minor": 2
}
