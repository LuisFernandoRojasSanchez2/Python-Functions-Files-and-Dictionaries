{
 "cells": [
  {
   "cell_type": "markdown",
   "metadata": {},
   "source": [
    "We have provided some synthetic (fake, semi-randomly generated) twitter data in a csv file named project_twitter_data.csv which has the text of a tweet, the number of retweets of that tweet, and the number of replies to that tweet. We have also words that express positive sentiment and negative sentiment, in the files positive_words.txt and negative_words.txt.\n",
    "\n",
    "Your task is to build a sentiment classifier, which will detect how positive or negative each tweet is. You will create a csv file, which contains columns for the Number of Retweets, Number of Replies, Positive Score (which is how many happy words are in the tweet), Negative Score (which is how many angry words are in the tweet), and the Net Score for each tweet. At the end, you upload the csv file to Excel or Google Sheets, and produce a graph of the Net Score vs Number of Retweets.\n",
    "\n",
    "To start, define a function called strip_punctuation which takes one parameter, a string which represents a word, and removes characters considered punctuation from everywhere in the word. (Hint: remember the .replace() method for strings.)"
   ]
  },
  {
   "cell_type": "code",
   "execution_count": 8,
   "metadata": {},
   "outputs": [
    {
     "name": "stdout",
     "output_type": "stream",
     "text": [
      "hello\n"
     ]
    }
   ],
   "source": [
    "punctuation_chars = [\"'\", '\"', \",\", \".\", \"!\", \":\", \";\", '#', '@']\n",
    "\n",
    "def strip_punctuation(word):\n",
    "    # Remove punctuation from the word\n",
    "    for char in punctuation_chars:\n",
    "        word = word.replace(char, \"\")\n",
    "    return word\n",
    "        \n",
    "print(strip_punctuation(\",h;e:!ll#@o\"))"
   ]
  },
  {
   "cell_type": "markdown",
   "metadata": {},
   "source": [
    "Next, copy in your strip_punctuation function and define a function called get_pos which takes one parameter, a string which represents one or more sentences, and calculates how many words in the string are considered positive words. Use the list, positive_words to determine what words will count as positive. The function should return a positive integer - how many occurrences there are of positive words in the text. Note that all of the words in positive_words are lower cased, so you’ll need to convert all the words in the input string to lower case as well."
   ]
  },
  {
   "cell_type": "code",
   "execution_count": 47,
   "metadata": {},
   "outputs": [
    {
     "name": "stdout",
     "output_type": "stream",
     "text": [
      "2\n"
     ]
    }
   ],
   "source": [
    "punctuation_chars = [\"'\", '\"', \",\", \".\", \"!\", \":\", \";\", '#', '@']\n",
    "\n",
    "# list of positive words to use\n",
    "positive_words = []\n",
    "\n",
    "with open(\"Files/positive_words.txt\") as pos_f:\n",
    "    for lin in pos_f:\n",
    "        if lin[0] != ';' and lin[0] != '\\n':\n",
    "            positive_words.append(lin.strip())\n",
    "\n",
    "def get_pos(sentences):\n",
    "    words = sentences.lower().split()\n",
    "\n",
    "    positive_count = 0\n",
    "\n",
    "    for word in words:\n",
    "        if strip_punctuation(word) in positive_words:\n",
    "            positive_count += 1\n",
    "\n",
    "    return positive_count\n",
    "\n",
    "def strip_punctuation(word):\n",
    "    # Remove punctuation from the word\n",
    "    for char in punctuation_chars:\n",
    "        word = word.replace(char, \"\")\n",
    "    return word\n",
    "\n",
    "print(get_pos(\"what a truly wonderful day it is today! #incredible\"))"
   ]
  },
  {
   "cell_type": "markdown",
   "metadata": {},
   "source": [
    "Next, copy in your strip_punctuation function and define a function called get_neg which takes one parameter, a string which represents one or more sentences, and calculates how many words in the string are considered negative words. Use the list, negative_words to determine what words will count as negative. The function should return a positive integer - how many occurrences there are of negative words in the text. Note that all of the words in negative_words are lower cased, so you’ll need to convert all the words in the input string to lower case as well."
   ]
  },
  {
   "cell_type": "code",
   "execution_count": 32,
   "metadata": {},
   "outputs": [],
   "source": [
    "punctuation_chars = [\"'\", '\"', \",\", \".\", \"!\", \":\", \";\", '#', '@']\n",
    "\n",
    "negative_words = []\n",
    "with open(\"Files/negative_words.txt\") as pos_f:\n",
    "    for lin in pos_f:\n",
    "        if lin[0] != ';' and lin[0] != '\\n':\n",
    "            negative_words.append(lin.strip())\n",
    "\n",
    "def get_neg(sentences):\n",
    "    words = sentences.lower().split()\n",
    "\n",
    "    negative_count = 0\n",
    "\n",
    "    for word in words:\n",
    "        if strip_punctuation(word) in negative_words:\n",
    "            negative_count += 1\n",
    "\n",
    "    return negative_count\n",
    "\n",
    "\n",
    "def strip_punctuation(word):\n",
    "    # Remove punctuation from the word\n",
    "    for char in punctuation_chars:\n",
    "        word = word.replace(char, \"\")\n",
    "    return word"
   ]
  },
  {
   "cell_type": "markdown",
   "metadata": {},
   "source": [
    "Finally, copy in your previous functions and write code that opens the file project_twitter_data.csv which has the fake generated twitter data (the text of a tweet, the number of retweets of that tweet, and the number of replies to that tweet). Your task is to build a sentiment classifier, which will detect how positive or negative each tweet is. Copy the code from the code windows above, and put that in the top of this code window. Now, you will write code to create a csv file called resulting_data.csv, which contains the Number of Retweets, Number of Replies, Positive Score (which is how many happy words are in the tweet), Negative Score (which is how many angry words are in the tweet), and the Net Score (how positive or negative the text is overall) for each tweet. The file should have those headers in that order. Remember that there is another component to this project. You will upload the csv file to Excel or Google Sheets and produce a graph of the Net Score vs Number of Retweets. Check Coursera for that portion of the assignment, if you’re accessing this textbook from Coursera."
   ]
  },
  {
   "cell_type": "code",
   "execution_count": 67,
   "metadata": {},
   "outputs": [],
   "source": [
    "punctuation_chars = [\"'\", '\"', \",\", \".\", \"!\", \":\", \";\", '#', '@']\n",
    "\n",
    "# Load positive words\n",
    "positive_words = []\n",
    "with open(\"Files/positive_words.txt\") as pos_f:\n",
    "    for lin in pos_f:\n",
    "        if lin[0] != ';' and lin[0] != '\\n':\n",
    "            positive_words.append(lin.strip())\n",
    "\n",
    "# Load negative words\n",
    "negative_words = []\n",
    "with open(\"Files/negative_words.txt\") as neg_f:\n",
    "    for lin in neg_f:\n",
    "        if lin[0] != ';' and lin[0] != '\\n':\n",
    "            negative_words.append(lin.strip())\n",
    "\n",
    "def strip_punctuation(word):\n",
    "    # Remove punctuation from the word\n",
    "    for char in punctuation_chars:\n",
    "        word = word.replace(char, \"\")\n",
    "    return word\n",
    "\n",
    "def get_pos(sentence):\n",
    "    positive_count = 0\n",
    "    for word in sentence.lower().split():\n",
    "        stripped_word = strip_punctuation(word)\n",
    "        if stripped_word in positive_words:\n",
    "            positive_count += 1\n",
    "    return positive_count\n",
    "\n",
    "def get_neg(sentence):\n",
    "    negative_count = 0\n",
    "    for word in sentence.lower().split():\n",
    "        stripped_word = strip_punctuation(word)\n",
    "        if stripped_word in negative_words:\n",
    "            negative_count += 1\n",
    "    return negative_count\n",
    "\n",
    "twitter_file = open(\"Files/project_twitter_data.csv\", 'r')\n",
    "resulting_data = open(\"resulting_data.csv\", \"w\")\n",
    "\n",
    "def gettingOutput(resultFile):\n",
    "    resultFile.write(\"Number of Retweets, Number of Replies, Positive Score, Negative Score, Net Score\")\n",
    "    resultFile.write(\"\\n\")\n",
    "    linesTwitter = twitter_file.readlines()\n",
    "    noHeader = linesTwitter.pop(0)  # Remove header\n",
    "\n",
    "    for lines in linesTwitter:\n",
    "        lst = lines.strip().split(',')\n",
    "        tweet_text = lst[0]  # Assuming the tweet text is the first item\n",
    "\n",
    "        pos_score = get_pos(tweet_text)\n",
    "        neg_score = get_neg(tweet_text)\n",
    "        net_score = pos_score - neg_score\n",
    "\n",
    "        resultFile.write(\"{}, {}, {}, {}, {}\".format(lst[1], lst[2], pos_score, neg_score, net_score))\n",
    "        resultFile.write(\"\\n\")\n",
    "\n",
    "gettingOutput(resulting_data)\n",
    "resulting_data.close()\n",
    "twitter_file.close()\n"
   ]
  }
 ],
 "metadata": {
  "kernelspec": {
   "display_name": "Python 3",
   "language": "python",
   "name": "python3"
  },
  "language_info": {
   "codemirror_mode": {
    "name": "ipython",
    "version": 3
   },
   "file_extension": ".py",
   "mimetype": "text/x-python",
   "name": "python",
   "nbconvert_exporter": "python",
   "pygments_lexer": "ipython3",
   "version": "3.12.4"
  }
 },
 "nbformat": 4,
 "nbformat_minor": 2
}
