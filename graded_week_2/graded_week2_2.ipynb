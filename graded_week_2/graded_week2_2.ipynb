{
 "cells": [
  {
   "cell_type": "code",
   "execution_count": 1,
   "metadata": {},
   "outputs": [
    {
     "name": "stdout",
     "output_type": "stream",
     "text": [
      "18\n"
     ]
    }
   ],
   "source": [
    "# The dictionary Junior shows a schedule for a junior year semester. The key is the course name and the value is the number of credits. \n",
    "# Find the total number of credits taken this semester and assign it to the variable credits. Do not hardcode this – use dictionary accumulation!\n",
    "\n",
    "Junior = {'SI 206':4, 'SI 310':4, 'BL 300':3, 'TO 313':3, 'BCOM 350':1, 'MO 300':3}\n",
    "\n",
    "credits = 0\n",
    "\n",
    "for key in Junior:\n",
    "    credits += Junior[key]\n",
    "\n",
    "print(credits)"
   ]
  },
  {
   "cell_type": "code",
   "execution_count": 2,
   "metadata": {},
   "outputs": [
    {
     "name": "stdout",
     "output_type": "stream",
     "text": [
      "{'p': 9, 'e': 8, 't': 1, 'r': 3, ' ': 7, 'i': 3, 'c': 3, 'k': 3, 'd': 2, 'a': 1, 'o': 1, 'f': 1, 'l': 1, 's': 1}\n"
     ]
    }
   ],
   "source": [
    "# Create a dictionary, freq, that displays each character in string str1 as the key and its frequency as the value.    \n",
    "\n",
    "str1 = \"peter piper picked a peck of pickled peppers\"\n",
    "\n",
    "freq = {}\n",
    "\n",
    "for char in str1:\n",
    "    if char not in freq:\n",
    "        freq[char] = 0\n",
    "    \n",
    "    freq[char] += 1\n",
    "\n",
    "print(freq)"
   ]
  },
  {
   "cell_type": "code",
   "execution_count": 3,
   "metadata": {},
   "outputs": [
    {
     "name": "stdout",
     "output_type": "stream",
     "text": [
      "{'h': 1, 'e': 1, 'l': 2, 'o': 1}\n"
     ]
    }
   ],
   "source": [
    "# Provided is a string saved to the variable name s1. Create a dictionary named counts that contains each letter in s1 and the number of times it occurs.\n",
    "\n",
    "s1 = \"hello\"\n",
    "\n",
    "counts = {}\n",
    "\n",
    "for char in s1:\n",
    "    if char not in counts:\n",
    "        counts[char] = 0\n",
    "    \n",
    "    counts[char] += 1\n",
    "\n",
    "print(counts)"
   ]
  },
  {
   "cell_type": "code",
   "execution_count": 5,
   "metadata": {},
   "outputs": [
    {
     "name": "stdout",
     "output_type": "stream",
     "text": [
      "{'I': 2, 'wish': 2, 'with': 2, 'all': 1, 'my': 1, 'heart': 1, 'to': 1, 'fly': 1, 'dragons': 1, 'in': 1, 'a': 1, 'land': 1, 'apart': 1}\n"
     ]
    }
   ],
   "source": [
    "# Create a dictionary, freq_words, that contains each word in string str1 as the key and its frequency as the value.\n",
    "\n",
    "str1 = \"I wish I wish with all my heart to fly with dragons in a land apart\"\n",
    "\n",
    "str_lst = str1.split()\n",
    "\n",
    "freq_words = {}\n",
    "\n",
    "for word in str_lst:\n",
    "    if word not in freq_words:\n",
    "        freq_words[word] = 0\n",
    "    \n",
    "    freq_words[word] += 1\n",
    "\n",
    "print(freq_words)"
   ]
  },
  {
   "cell_type": "code",
   "execution_count": 7,
   "metadata": {},
   "outputs": [
    {
     "name": "stdout",
     "output_type": "stream",
     "text": [
      "{'Singing': 1, 'in': 2, 'the': 2, 'rain': 2, 'and': 1, 'playing': 1, 'are': 1, 'two': 1, 'entirely': 1, 'different': 1, 'situations': 1, 'but': 1, 'both': 1, 'can': 1, 'be': 1, 'good': 1}\n"
     ]
    }
   ],
   "source": [
    "# Create a dictionary called wrd_d from the string sent, so that the key is a word and the value is how many times you have seen that word.\n",
    "\n",
    "sent = \"Singing in the rain and playing in the rain are two entirely different situations but both can be good\"\n",
    "\n",
    "sent_lst = sent.split()\n",
    "\n",
    "wrd_d = {}\n",
    "\n",
    "for word in sent_lst:\n",
    "    if word not in wrd_d:\n",
    "        wrd_d[word] = 0\n",
    "    \n",
    "    wrd_d[word] += 1\n",
    "\n",
    "print(wrd_d)"
   ]
  },
  {
   "cell_type": "code",
   "execution_count": 18,
   "metadata": {},
   "outputs": [
    {
     "name": "stdout",
     "output_type": "stream",
     "text": [
      "y\n"
     ]
    }
   ],
   "source": [
    "# Create the dictionary characters that shows each character from the string sally and its frequency.\n",
    "#  Then, find the most frequent letter based on the dictionary. Assign this letter to the variable best_char.\n",
    "\n",
    "sally = \"sally sells sea shells by the sea shore\"\n",
    "\n",
    "char_dict = {}\n",
    "\n",
    "for char in sally:\n",
    "    if char not in char_dict:\n",
    "        char_dict[char] = 0\n",
    "    \n",
    "    char_dict[char] += 1\n",
    "\n",
    "best_char = max(char_dict)\n",
    "\n",
    "print(best_char)"
   ]
  },
  {
   "cell_type": "code",
   "execution_count": 22,
   "metadata": {},
   "outputs": [
    {
     "name": "stdout",
     "output_type": "stream",
     "text": [
      " \n"
     ]
    }
   ],
   "source": [
    "# Find the least frequent letter. Create the dictionary characters that shows each character from string sally and its frequency. \n",
    "# Then, find the least frequent letter in the string and assign the letter to the variable worst_char.\n",
    "\n",
    "sally = \"sally sells sea shells by the sea shore and by the road\"\n",
    "\n",
    "char_dict = {}\n",
    "\n",
    "for char in sally:\n",
    "    if char not in char_dict:\n",
    "        char_dict[char] = 0\n",
    "    \n",
    "    char_dict[char] += 1\n",
    "\n",
    "worst_char = min(char_dict)\n",
    "\n",
    "#the result is a whitespace\n",
    "print(worst_char)"
   ]
  },
  {
   "cell_type": "code",
   "execution_count": 25,
   "metadata": {},
   "outputs": [
    {
     "name": "stdout",
     "output_type": "stream",
     "text": [
      "{'t': 19, 'h': 11, 'e': 29, 'r': 12, ' ': 53, 'i': 14, 's': 15, 'a': 17, 'd': 7, 'n': 15, 'f': 9, 'o': 17, 'm': 4, ',': 4, 'w': 6, 'c': 3, 'k': 2, 'l': 11, 'u': 8, '.': 4, 'v': 3, 'y': 1, 'g': 1, 'b': 1}\n"
     ]
    }
   ],
   "source": [
    "# Create a dictionary named letter_counts that contains each letter and the number of times it occurs in string1. \n",
    "# Challenge: Letters should not be counted separately as upper-case and lower-case. Intead, all of them should be counted as lower-case.\n",
    "\n",
    "string1 = \"There is a tide in the affairs of men, Which taken at the flood, leads on to fortune. Omitted, all the voyage of their life is bound in shallows and in miseries. On such a full sea are we now afloat. And we must take the current when it serves, or lose our ventures.\"\n",
    "\n",
    "letter_counts = {}\n",
    "\n",
    "#lower is to make all characters lowercase\n",
    "string1 = string1.lower()\n",
    "\n",
    "for char in string1:\n",
    "    if char not in letter_counts:\n",
    "        letter_counts[char] = 0\n",
    "    \n",
    "    letter_counts[char] += 1\n",
    "\n",
    "print(letter_counts)"
   ]
  },
  {
   "cell_type": "code",
   "execution_count": 26,
   "metadata": {},
   "outputs": [
    {
     "name": "stdout",
     "output_type": "stream",
     "text": [
      "{'s': 5, 'u': 7, 'm': 3, 'e': 12, 'r': 3, ' ': 20, 'i': 3, 'a': 6, 'g': 3, 't': 9, 'o': 8, 'd': 1, '.': 2, 'y': 1, 'h': 6, 'v': 1, 'b': 2, 'c': 2, 'f': 3, 'l': 1, 'n': 1}\n"
     ]
    }
   ],
   "source": [
    "# Create a dictionary called low_d that keeps track of all the characters in the string p and notes how many times each character was seen. \n",
    "# Make sure that there are no repeats of characters as keys, such that “T” and “t” are both seen as a “t” for example.\n",
    "\n",
    "p = \"Summer is a great time to go outside. You have to be careful of the sun though because of the heat.\"\n",
    "\n",
    "p = p.lower()\n",
    "\n",
    "low_d = {}\n",
    "\n",
    "for char in p:\n",
    "    if char not in low_d:\n",
    "        low_d[char] = 0\n",
    "\n",
    "    low_d[char] += 1\n",
    "\n",
    "print(low_d)"
   ]
  }
 ],
 "metadata": {
  "kernelspec": {
   "display_name": "Python 3",
   "language": "python",
   "name": "python3"
  },
  "language_info": {
   "codemirror_mode": {
    "name": "ipython",
    "version": 3
   },
   "file_extension": ".py",
   "mimetype": "text/x-python",
   "name": "python",
   "nbconvert_exporter": "python",
   "pygments_lexer": "ipython3",
   "version": "3.12.4"
  }
 },
 "nbformat": 4,
 "nbformat_minor": 2
}
