{
 "cells": [
  {
   "cell_type": "code",
   "execution_count": 1,
   "metadata": {},
   "outputs": [
    {
     "name": "stdout",
     "output_type": "stream",
     "text": [
      "12\n",
      "4\n"
     ]
    }
   ],
   "source": [
    "# Create a function called mult that has two parameters, the first is required and should be an integer, \n",
    "\n",
    "# the second is an optional parameter that can either be a number or a string but whose default is 6. \n",
    "\n",
    "# The function should return the first parameter multiplied by the second.\n",
    "\n",
    "def mult(first, second=6):\n",
    "    return first * second\n",
    "\n",
    "print(mult(2))\n",
    "\n",
    "print(mult(2,2))"
   ]
  },
  {
   "cell_type": "code",
   "execution_count": 2,
   "metadata": {},
   "outputs": [
    {
     "name": "stdout",
     "output_type": "stream",
     "text": [
      "Hello Bob!\n",
      "Hello !\n",
      "Hello Bob!!!\n"
     ]
    }
   ],
   "source": [
    "# The following function, greeting, does not work. \n",
    "\n",
    "def greeting(name,greeting=\"Hello \", excl=\"!\"):\n",
    "    return greeting + name + excl\n",
    "\n",
    "# Please fix the code so that it runs without error. This only requires one change in the definition of the function.\n",
    "\n",
    "print(greeting(\"Bob\"))\n",
    "print(greeting(\"\"))\n",
    "print(greeting(\"Bob\", excl=\"!!!\"))"
   ]
  },
  {
   "cell_type": "code",
   "execution_count": 3,
   "metadata": {},
   "outputs": [
    {
     "name": "stdout",
     "output_type": "stream",
     "text": [
      "7\n"
     ]
    }
   ],
   "source": [
    "#Below is a function, sum, that does not work. Change the function definition so the code works.\n",
    "\n",
    "#  The function should still have a required parameter, intx, and an optional parameter, intz with a defualt value of 5.\n",
    "\n",
    "def sum( intx, intz=5):\n",
    "    return intz + intx\n",
    "\n",
    "print(sum(2))"
   ]
  },
  {
   "cell_type": "code",
   "execution_count": 5,
   "metadata": {},
   "outputs": [
    {
     "name": "stdout",
     "output_type": "stream",
     "text": [
      "None\n"
     ]
    }
   ],
   "source": [
    "#Write a function, test, that takes in three parameters: a required integer, an optional boolean whose default value is True, and an optional dictionary, called dict1, \n",
    "\n",
    "#whose default value is {2:3, 4:5, 6:8}. If the boolean parameter is True, the function should test to see if the integer is a key in the dictionary.\n",
    "\n",
    "#The value of that key should then be returned. If the boolean parameter is False, return the boolean value “False”.\n",
    "\n",
    "def test(first, second = True, dict1 = {2:3, 4:5, 6:8}):\n",
    "    if second:\n",
    "        if first in dict1:\n",
    "            return dict1[first]\n",
    "    else:\n",
    "        return second\n",
    "\n",
    "print(test(7))"
   ]
  },
  {
   "cell_type": "code",
   "execution_count": 12,
   "metadata": {},
   "outputs": [
    {
     "name": "stdout",
     "output_type": "stream",
     "text": [
      "True\n",
      "False\n",
      "True\n"
     ]
    }
   ],
   "source": [
    "# Write a function called checkingIfIn that takes three parameters. The first is a required parameter, which should be a string. \n",
    "\n",
    "# The second is an optional parameter called direction with a default value of True. \n",
    "\n",
    "# The third is an optional parameter called d that has a default value of {'apple': 2, 'pear': 1, 'fruit': 19, 'orange': 5, 'banana': 3, 'grapes': 2, 'watermelon': 7}. \n",
    "\n",
    "# Write the function checkingIfIn so that when the second parameter is True, it checks to see if the first parameter is a key in the third parameter; if it is, return True, \n",
    "\n",
    "# otherwise return False.\n",
    "\n",
    "#But if the second paramter is False,\n",
    "\n",
    "#  then the function should check to see if the first parameter is not a key of the third. \n",
    "\n",
    "# If it’s not, the function should return True in this case, and if it is, it should return False.\n",
    "\n",
    "def checkingIfIn(string, direction = True, d = {'apple': 2, 'pear': 1, 'fruit': 19, 'orange': 5, 'banana': 3, 'grapes': 2, 'watermelon': 7}):\n",
    "    if direction:\n",
    "        if string in d:\n",
    "            return True\n",
    "        else:\n",
    "            return False\n",
    "    else:\n",
    "        if string not in d:\n",
    "            return True\n",
    "        else:\n",
    "            return False\n",
    "        \n",
    "print(checkingIfIn('apple')) #only passing string\n",
    "print(checkingIfIn('apple', False)) #passing string and False, string is in dictionary\n",
    "print(checkingIfIn('pineapple', False)) #passing string and False, string is NOT in dictionary"
   ]
  },
  {
   "cell_type": "code",
   "execution_count": 20,
   "metadata": {},
   "outputs": [
    {
     "name": "stdout",
     "output_type": "stream",
     "text": [
      "False\n",
      "True\n",
      "19\n",
      "8\n"
     ]
    }
   ],
   "source": [
    "#We have provided the function checkingIfIn such that if the first input parameter is in the third, dictionary, input parameter, then the function returns that value, and otherwise,\n",
    "\n",
    "#  it returns False. Follow the instructions in the active code window for specific variable assignmemts.\n",
    "\n",
    "def checkingIfIn(a, direction = True, d = {'apple': 2, 'pear': 1, 'fruit': 19, 'orange': 5, 'banana': 3, 'grapes': 2, 'watermelon': 7}):\n",
    "    if direction == True:\n",
    "        if a in d:\n",
    "            return d[a]\n",
    "        else:\n",
    "            return False\n",
    "    else:\n",
    "        if a not in d:\n",
    "            return True\n",
    "        else:\n",
    "            return d[a]\n",
    "\n",
    "\n",
    "# Call the function so that it returns False and assign that function call to the variable c_false\n",
    "c_false = checkingIfIn('pineapple') #alternatively we could just put \"\"\n",
    "print(c_false)\n",
    "# Call the fucntion so that it returns True and assign it to the variable c_true\n",
    "c_true = checkingIfIn('pineapple', False) #alternatively we could just put \"\"\n",
    "print(c_true)\n",
    "# Call the function so that the value of fruit is assigned to the variable fruit_ans\n",
    "fruit_ans = checkingIfIn('fruit')\n",
    "print(fruit_ans)\n",
    "# Call the function using the first and third parameter so that the value 8 is assigned to the variable param_check\n",
    "param_check = checkingIfIn('pineapple', d = {'pineapple': 8})\n",
    "print(param_check)"
   ]
  }
 ],
 "metadata": {
  "kernelspec": {
   "display_name": "Python 3",
   "language": "python",
   "name": "python3"
  },
  "language_info": {
   "codemirror_mode": {
    "name": "ipython",
    "version": 3
   },
   "file_extension": ".py",
   "mimetype": "text/x-python",
   "name": "python",
   "nbconvert_exporter": "python",
   "pygments_lexer": "ipython3",
   "version": "3.12.4"
  }
 },
 "nbformat": 4,
 "nbformat_minor": 2
}
