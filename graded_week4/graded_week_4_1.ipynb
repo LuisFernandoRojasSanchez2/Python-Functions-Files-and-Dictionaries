{
 "cells": [
  {
   "cell_type": "code",
   "execution_count": 6,
   "metadata": {},
   "outputs": [
    {
     "name": "stdout",
     "output_type": "stream",
     "text": [
      "[6, 9, 2, 3, 1, 19]\n"
     ]
    }
   ],
   "source": [
    "# Write a function, sublist, that takes in a list of numbers as the parameter. \n",
    "# In the function, use a while loop to return a sublist of the input list. \n",
    "# The sublist should contain the same values of the original list up until it reaches the number 5 (it should not contain the number 5).\n",
    "\n",
    "def sublist(num_list):\n",
    "    idx = 0\n",
    "    sub_list = []\n",
    "\n",
    "    while idx < len(num_list):\n",
    "        if num_list[idx] != 5:\n",
    "            sub_list.append(num_list[idx])\n",
    "            idx += 1\n",
    "        else:\n",
    "            #we can put a break here if we want it to stop at the first instance of the number 5, but I decided to redo it to make it so it includes all numbers except 5.\n",
    "            idx += 1\n",
    "            continue\n",
    "    \n",
    "    return sub_list\n",
    "\n",
    "print(sublist([6,9,2,3,5,1,19,5]))"
   ]
  },
  {
   "cell_type": "code",
   "execution_count": 9,
   "metadata": {},
   "outputs": [
    {
     "name": "stdout",
     "output_type": "stream",
     "text": [
      "[516, 156]\n"
     ]
    }
   ],
   "source": [
    "# Write a function called check_nums that takes a list as its parameter, and contains a while loop that only stops once the element of the list is the number 7.\n",
    "#  What is returned is a list of all of the numbers up until it reaches 7.\n",
    "\n",
    "def check_nums(num_list):\n",
    "    idx = 0\n",
    "    sub_list = []\n",
    "\n",
    "    while num_list[idx] != 7: #here the problem explicitly says that it should stop when the program finds a 7 in the list. whereas in the previous one it said that it should not contain the number 5.\n",
    "        sub_list.append(num_list[idx])\n",
    "        idx += 1\n",
    "\n",
    "    return sub_list\n",
    "\n",
    "print(check_nums([516,156,7,48,4,1,848]))"
   ]
  },
  {
   "cell_type": "code",
   "execution_count": 13,
   "metadata": {},
   "outputs": [
    {
     "name": "stdout",
     "output_type": "stream",
     "text": [
      "['Hello', 'hi', 'asdasd']\n"
     ]
    }
   ],
   "source": [
    "# Write a function, sublist, that takes in a list of strings as the parameter.\n",
    "# In the function, use a while loop to return a sublist of the input list.\n",
    "# The sublist should contain the same values of the original list up until it reaches the string “STOP” (it should not contain the string “STOP”).\n",
    "\n",
    "def sublist(string_list):\n",
    "    idx = 0\n",
    "    sub_list = []\n",
    "\n",
    "    while string_list[idx].upper() != \"STOP\": #Added .upper() so it didn't have any issues if the word stop was in lowercase or if it was sTOp or something like that.\n",
    "        sub_list.append(string_list[idx])\n",
    "        idx += 1\n",
    "\n",
    "    return sub_list\n",
    "\n",
    "print(sublist(['Hello', \"hi\", 'asdasd', 'stop']))"
   ]
  },
  {
   "cell_type": "code",
   "execution_count": 15,
   "metadata": {},
   "outputs": [
    {
     "name": "stdout",
     "output_type": "stream",
     "text": [
      "['a']\n"
     ]
    }
   ],
   "source": [
    "# Write a function called stop_at_z that iterates through a list of strings. \n",
    "# Using a while loop, append each string to a new list until the string that appears is “z”. The function should return the new list.\n",
    "\n",
    "def stop_at_z(string_list):\n",
    "    new_list = []\n",
    "    idx = 0\n",
    "\n",
    "    while string_list[idx] != \"z\":\n",
    "        new_list.append(string_list[idx])\n",
    "        idx += 1\n",
    "\n",
    "    return new_list\n",
    "\n",
    "print(stop_at_z(['a', 'z' ,'b', 'c', 'd', 'e', 'f', 'g', 'h', 'i', 'j', 'k', 'l', 'm', 'n', 'o', 'p', 'q', 'r', 's', 't', 'u', 'v', 'w', 'x', 'y', 'z']))"
   ]
  },
  {
   "cell_type": "code",
   "execution_count": 19,
   "metadata": {},
   "outputs": [
    {
     "name": "stdout",
     "output_type": "stream",
     "text": [
      "sum1: 197\n",
      "sum2: 197\n"
     ]
    }
   ],
   "source": [
    "# Below is a for loop that works. Underneath the for loop, rewrite the problem so that it does the same thing, but using a while loop instead of a for loop. \n",
    "# Assign the accumulated total in the while loop code to the variable sum2. Once complete, sum2 should equal sum1.\n",
    "\n",
    "sum1 = 0\n",
    "sum2 = 0\n",
    "idx = 0\n",
    "lst = [65, 78, 21, 33]\n",
    "\n",
    "for x in lst:\n",
    "    sum1 = sum1 + x\n",
    "\n",
    "while idx < len(lst):\n",
    "    sum2 += lst[idx]\n",
    "    idx += 1\n",
    "\n",
    "print(\"sum1:\" , sum1) #to put this all in the same string we would have to put str(sum1) to make sum1 a string and being able to concatenate it. same for sum2.\n",
    "print(\"sum2:\" , sum2)"
   ]
  },
  {
   "cell_type": "code",
   "execution_count": 25,
   "metadata": {},
   "outputs": [
    {
     "name": "stdout",
     "output_type": "stream",
     "text": [
      "['hello', 'hi', 'this', 'boy', 'mau', 'ricky', 'cat', 'dog', 'nueve', 'diez']\n",
      "['hello']\n"
     ]
    }
   ],
   "source": [
    "# Challenge: Write a function called beginning that takes a list as input and contains a while loop that only stops once the element of the list is the string ‘bye’. \n",
    "# What is returned is a list that contains up to the first 10 strings, regardless of where the loop stops. (i.e., if it stops on the 32nd element, the first 10 are returned. \n",
    "# If “bye” is the 5th element, the first 4 are returned.) If you want to make this even more of a challenge, do this without slicing\n",
    "\n",
    "def beginning(string_list):\n",
    "    idx = 0\n",
    "    first_ten = []\n",
    "\n",
    "    while string_list[idx].lower() != \"bye\" and len(first_ten) < 10: #the len(first_ten) < 10 makes it so the while loop stops when the list first_ten reaches a length of 10 elements.\n",
    "        first_ten.append(string_list[idx])\n",
    "        idx += 1\n",
    "\n",
    "    return first_ten[:10]\n",
    "\n",
    "print(beginning(['hello', 'hi', 'this', 'boy', 'mau', 'ricky', 'cat', 'dog', 'nueve', 'diez', 'once',  'bye']))\n",
    "print(beginning(['hello', 'bye']))"
   ]
  }
 ],
 "metadata": {
  "kernelspec": {
   "display_name": "Python 3",
   "language": "python",
   "name": "python3"
  },
  "language_info": {
   "codemirror_mode": {
    "name": "ipython",
    "version": 3
   },
   "file_extension": ".py",
   "mimetype": "text/x-python",
   "name": "python",
   "nbconvert_exporter": "python",
   "pygments_lexer": "ipython3",
   "version": "3.12.4"
  }
 },
 "nbformat": 4,
 "nbformat_minor": 2
}
