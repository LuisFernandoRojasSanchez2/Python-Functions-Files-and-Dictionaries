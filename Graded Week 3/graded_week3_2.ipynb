{
 "cells": [
  {
   "cell_type": "code",
   "execution_count": 1,
   "metadata": {},
   "outputs": [
    {
     "name": "stdout",
     "output_type": "stream",
     "text": [
      "('Beijing', 'London', 'Rio', 'Tokyo')\n"
     ]
    }
   ],
   "source": [
    "# Create a tuple called olympics with four elements: “Beijing”, “London”, “Rio”, “Tokyo”.\n",
    "\n",
    "olympics = (\"Beijing\", \"London\", \"Rio\", \"Tokyo\")\n",
    "\n",
    "print(olympics)"
   ]
  },
  {
   "cell_type": "code",
   "execution_count": 2,
   "metadata": {},
   "outputs": [
    {
     "name": "stdout",
     "output_type": "stream",
     "text": [
      "['China', 'England', 'Brazil', 'Japan']\n"
     ]
    }
   ],
   "source": [
    "# The list below, tuples_lst, is a list of tuples. Create a list of the second elements of each tuple and assign this list to the variable country.\n",
    "\n",
    "tuples_lst = [('Beijing', 'China', 2008), ('London', 'England', 2012), ('Rio', 'Brazil', 2016, 'Current'), ('Tokyo', 'Japan', 2020, 'Future')]\n",
    "\n",
    "seconds = []\n",
    "\n",
    "for x in tuples_lst:\n",
    "    seconds.append(x[1])\n",
    "\n",
    "print(seconds)"
   ]
  },
  {
   "cell_type": "code",
   "execution_count": 3,
   "metadata": {},
   "outputs": [
    {
     "name": "stdout",
     "output_type": "stream",
     "text": [
      "Rio\n",
      "Brazil\n",
      "2016\n"
     ]
    }
   ],
   "source": [
    "# With only one line of code, assign the variables city, country, and year to the values of the tuple olymp.\n",
    "\n",
    "olymp = ('Rio', 'Brazil', 2016)\n",
    "\n",
    "city, country, year = olymp\n",
    "print(city)\n",
    "print(country)\n",
    "print(year)"
   ]
  },
  {
   "cell_type": "code",
   "execution_count": 6,
   "metadata": {},
   "outputs": [
    {
     "name": "stdout",
     "output_type": "stream",
     "text": [
      "('Luis', 'Male', 23, 'May', 'Alajuela')\n"
     ]
    }
   ],
   "source": [
    "# Define a function called info with five parameters: name, gender, age, bday_month, and hometown. The function should then return a tuple with all five parameters in that order.\n",
    "\n",
    "def info(name, gender, age, bday_month, hometown):\n",
    "    return (name, gender, age, bday_month, hometown)\n",
    "\n",
    "print(info('Luis', 'Male', 23, 'May', 'Alajuela'))"
   ]
  },
  {
   "cell_type": "code",
   "execution_count": 8,
   "metadata": {},
   "outputs": [
    {
     "name": "stdout",
     "output_type": "stream",
     "text": [
      "[31, 19, 19, 13, 12, 10, 8, 8]\n"
     ]
    }
   ],
   "source": [
    "# Given is the dictionary, gold, which shows the country and the number of gold medals they have earned so far in the 2016 Olympics. \n",
    "# Create a list, num_medals, that contains only the number of medals for each country. You must use the .items() method. \n",
    "# Note: The .items() method provides a list of tuples. Do not use .keys() method.\n",
    "\n",
    "gold = {'USA':31, 'Great Britain':19, 'China':19, 'Germany':13, 'Russia':12, 'Japan':10, 'France':8, 'Italy':8}\n",
    "\n",
    "num_medals = []\n",
    "\n",
    "for item in gold.items():\n",
    "    num_medals.append(item[1])\n",
    "\n",
    "print(num_medals)"
   ]
  }
 ],
 "metadata": {
  "kernelspec": {
   "display_name": "Python 3",
   "language": "python",
   "name": "python3"
  },
  "language_info": {
   "codemirror_mode": {
    "name": "ipython",
    "version": 3
   },
   "file_extension": ".py",
   "mimetype": "text/x-python",
   "name": "python",
   "nbconvert_exporter": "python",
   "pygments_lexer": "ipython3",
   "version": "3.12.4"
  }
 },
 "nbformat": 4,
 "nbformat_minor": 2
}
