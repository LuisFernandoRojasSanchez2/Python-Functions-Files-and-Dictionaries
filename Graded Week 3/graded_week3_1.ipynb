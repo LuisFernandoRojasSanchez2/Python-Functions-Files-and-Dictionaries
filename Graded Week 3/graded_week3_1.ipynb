{
 "cells": [
  {
   "cell_type": "code",
   "execution_count": 1,
   "metadata": {},
   "outputs": [
    {
     "name": "stdout",
     "output_type": "stream",
     "text": [
      "5\n"
     ]
    }
   ],
   "source": [
    "# Write a function called int_return that takes an integer as input and returns the same integer.\n",
    "\n",
    "def int_return(integer):\n",
    "    return integer\n",
    "\n",
    "print(int_return(5))"
   ]
  },
  {
   "cell_type": "code",
   "execution_count": 5,
   "metadata": {},
   "outputs": [
    {
     "name": "stdout",
     "output_type": "stream",
     "text": [
      "7\n"
     ]
    }
   ],
   "source": [
    "# Write a function called add that takes any number as its input and returns that sum with 2 added.\n",
    "def add(num):\n",
    "    return int(num) + 2\n",
    "\n",
    "print(add(5))"
   ]
  },
  {
   "cell_type": "code",
   "execution_count": 4,
   "metadata": {},
   "outputs": [
    {
     "name": "stdout",
     "output_type": "stream",
     "text": [
      "Hello! Nice to meet you!\n"
     ]
    }
   ],
   "source": [
    "# Write a function called change that takes any string, adds “Nice to meet you!” to the end of the argument given, and returns that new string.\n",
    "\n",
    "def change(string):\n",
    "    return str(string) + \" Nice to meet you!\"\n",
    "\n",
    "print(change(\"Hello!\"))"
   ]
  },
  {
   "cell_type": "code",
   "execution_count": 7,
   "metadata": {},
   "outputs": [
    {
     "name": "stdout",
     "output_type": "stream",
     "text": [
      "15\n"
     ]
    }
   ],
   "source": [
    "# Write a function, accum, that takes a list of integers as input and returns the sum of those integers.\n",
    "\n",
    "def accum(lst):\n",
    "    total = 0\n",
    "    for num in lst:\n",
    "        total += int(num)\n",
    "    return total\n",
    "\n",
    "print(accum([1,2,3,4,5]))"
   ]
  },
  {
   "cell_type": "code",
   "execution_count": 9,
   "metadata": {},
   "outputs": [
    {
     "name": "stdout",
     "output_type": "stream",
     "text": [
      "Longer than 5\n",
      "Longer than 5\n",
      "Less than 5\n"
     ]
    }
   ],
   "source": [
    "# Write a function, length, that takes in a list as the input. \n",
    "# If the length of the list is greater than or equal to 5, return “Longer than 5”. If the length is less than 5, return “Less than 5”.\n",
    "\n",
    "def length(lst):\n",
    "    if len(lst) >= 5:\n",
    "        return \"Longer than 5\"\n",
    "    else:\n",
    "        return \"Less than 5\"\n",
    "\n",
    "print(length([1,2,3,4,5,6,7,8,9]))\n",
    "print(length([1,2,3,4,5]))\n",
    "print(length([1,2,3]))"
   ]
  },
  {
   "cell_type": "code",
   "execution_count": 11,
   "metadata": {},
   "outputs": [
    {
     "name": "stdout",
     "output_type": "stream",
     "text": [
      "5\n",
      "11\n"
     ]
    }
   ],
   "source": [
    "# You will need to write two functions for this problem. The first function, divide that takes in any number and returns that same number divided by 2.\n",
    "#  The second function called sum should take any number, divide it by 2, and add 6. It should return this new number. You should call the divide function within the sum function.\n",
    "#  Do not worry about decimals.\n",
    "\n",
    "def divide(num):\n",
    "    return num // 2\n",
    "\n",
    "def sum(num):\n",
    "    x = divide(num)\n",
    "    return x + 6\n",
    "\n",
    "print(divide(10))\n",
    "print(sum(10))\n"
   ]
  }
 ],
 "metadata": {
  "kernelspec": {
   "display_name": "Python 3",
   "language": "python",
   "name": "python3"
  },
  "language_info": {
   "codemirror_mode": {
    "name": "ipython",
    "version": 3
   },
   "file_extension": ".py",
   "mimetype": "text/x-python",
   "name": "python",
   "nbconvert_exporter": "python",
   "pygments_lexer": "ipython3",
   "version": "3.12.4"
  }
 },
 "nbformat": 4,
 "nbformat_minor": 2
}
